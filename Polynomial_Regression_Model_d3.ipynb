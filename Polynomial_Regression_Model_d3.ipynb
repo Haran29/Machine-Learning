{
  "nbformat": 4,
  "nbformat_minor": 0,
  "metadata": {
    "colab": {
      "provenance": [],
      "authorship_tag": "ABX9TyPnn2bPHnYcBsrWV7RsxhmU",
      "include_colab_link": true
    },
    "kernelspec": {
      "name": "python3",
      "display_name": "Python 3"
    },
    "language_info": {
      "name": "python"
    }
  },
  "cells": [
    {
      "cell_type": "markdown",
      "metadata": {
        "id": "view-in-github",
        "colab_type": "text"
      },
      "source": [
        "<a href=\"https://colab.research.google.com/github/Haran29/Machine-Learning/blob/main/Polynomial_Regression_Model_d3.ipynb\" target=\"_parent\"><img src=\"https://colab.research.google.com/assets/colab-badge.svg\" alt=\"Open In Colab\"/></a>"
      ]
    },
    {
      "cell_type": "markdown",
      "source": [
        "Import the position_salaries.csv file given\n",
        "\n",
        "Your input column is indicated as “Level” and output column is indicated as “Salary”\n"
      ],
      "metadata": {
        "id": "UPOtN0CrzGBa"
      }
    },
    {
      "cell_type": "code",
      "execution_count": 12,
      "metadata": {
        "id": "ME-1WZZWx1Ua"
      },
      "outputs": [],
      "source": [
        "import numpy as np\n",
        "import pandas as pd\n",
        "from sklearn.linear_model import LinearRegression\n",
        "from sklearn.preprocessing import PolynomialFeatures\n",
        "from sklearn.metrics import r2_score,mean_squared_error\n",
        "\n",
        "df = pd.read_csv('/content/w2_position_salaries-220925-153437.csv')\n",
        "df.head()\n",
        "\n",
        "x  = df[['Level']]\n",
        "y = df['Salary']"
      ]
    },
    {
      "cell_type": "markdown",
      "source": [
        "Train a simple linear regression model and compute the R2 Score of the trained model\n",
        "\n"
      ],
      "metadata": {
        "id": "099jVpPZzNb_"
      }
    },
    {
      "cell_type": "code",
      "source": [
        "model = LinearRegression()\n",
        "model.fit(x,y)\n",
        "model.score(x,y)"
      ],
      "metadata": {
        "colab": {
          "base_uri": "https://localhost:8080/"
        },
        "id": "uvph3zVYzSFT",
        "outputId": "b2693ff4-90d1-4f7c-b41c-35447f94f9d1"
      },
      "execution_count": 13,
      "outputs": [
        {
          "output_type": "execute_result",
          "data": {
            "text/plain": [
              "0.6690412331929895"
            ]
          },
          "metadata": {},
          "execution_count": 13
        }
      ]
    },
    {
      "cell_type": "markdown",
      "source": [
        "Train three polynomial regression model with degree of 2, 3 and 4 and compute their R2 Scores"
      ],
      "metadata": {
        "id": "qNisOuem0gtE"
      }
    },
    {
      "cell_type": "code",
      "source": [
        "poly_features = PolynomialFeatures(degree=2)\n",
        "X_poly = poly_features.fit_transform(x)\n",
        "poly_regressor = LinearRegression()\n",
        "poly_regressor.fit(X_poly, y)\n",
        "y_pred_poly = poly_regressor.predict(X_poly)\n",
        "mse_poly = mean_squared_error(y, y_pred_poly)\n",
        "r2_poly = r2_score(y, y_pred_poly)\n",
        "\n",
        "print(r2_poly)"
      ],
      "metadata": {
        "colab": {
          "base_uri": "https://localhost:8080/"
        },
        "id": "36fHnQ7D0my6",
        "outputId": "2d1202a0-2e1a-4bc3-f216-8eb2770317e2"
      },
      "execution_count": 16,
      "outputs": [
        {
          "output_type": "stream",
          "name": "stdout",
          "text": [
            "0.9162082221443942\n"
          ]
        }
      ]
    },
    {
      "cell_type": "code",
      "source": [
        "poly_features = PolynomialFeatures(degree=3)\n",
        "X_poly = poly_features.fit_transform(x)\n",
        "poly_regressor = LinearRegression()\n",
        "poly_regressor.fit(X_poly, y)\n",
        "y_pred_poly = poly_regressor.predict(X_poly)\n",
        "mse_poly = mean_squared_error(y, y_pred_poly)\n",
        "r2_poly = r2_score(y, y_pred_poly)\n",
        "\n",
        "print(r2_poly)"
      ],
      "metadata": {
        "colab": {
          "base_uri": "https://localhost:8080/"
        },
        "id": "RtRJn2iR1XPx",
        "outputId": "8d7f3d09-3b48-4c52-c767-01fd78b921c7"
      },
      "execution_count": 17,
      "outputs": [
        {
          "output_type": "stream",
          "name": "stdout",
          "text": [
            "0.9812097727913366\n"
          ]
        }
      ]
    },
    {
      "cell_type": "code",
      "source": [
        "poly_features = PolynomialFeatures(degree=4)\n",
        "X_poly = poly_features.fit_transform(x)\n",
        "poly_regressor = LinearRegression()\n",
        "poly_regressor.fit(X_poly, y)\n",
        "y_pred_poly = poly_regressor.predict(X_poly)\n",
        "mse_poly = mean_squared_error(y, y_pred_poly)\n",
        "r2_poly = r2_score(y, y_pred_poly)\n",
        "\n",
        "print(r2_poly)"
      ],
      "metadata": {
        "colab": {
          "base_uri": "https://localhost:8080/"
        },
        "id": "efGnYny81arC",
        "outputId": "abd93d7f-50a7-4fba-8b9b-80ddba30a4d1"
      },
      "execution_count": 18,
      "outputs": [
        {
          "output_type": "stream",
          "name": "stdout",
          "text": [
            "0.9973922891706614\n"
          ]
        }
      ]
    },
    {
      "cell_type": "code",
      "source": [
        "poly_features = PolynomialFeatures(degree=5)\n",
        "X_poly = poly_features.fit_transform(x)\n",
        "poly_regressor = LinearRegression()\n",
        "poly_regressor.fit(X_poly, y)\n",
        "y_pred_poly = poly_regressor.predict(X_poly)\n",
        "mse_poly = mean_squared_error(y, y_pred_poly)\n",
        "r2_poly = r2_score(y, y_pred_poly)\n",
        "\n",
        "print(r2_poly)"
      ],
      "metadata": {
        "colab": {
          "base_uri": "https://localhost:8080/"
        },
        "id": "E_A5EAdf1dVY",
        "outputId": "deed8273-b1f9-424e-b069-a520d6e6e303"
      },
      "execution_count": 19,
      "outputs": [
        {
          "output_type": "stream",
          "name": "stdout",
          "text": [
            "0.9997969027099755\n"
          ]
        }
      ]
    },
    {
      "cell_type": "code",
      "source": [
        "poly_features = PolynomialFeatures(degree=6)\n",
        "X_poly = poly_features.fit_transform(x)\n",
        "poly_regressor = LinearRegression()\n",
        "poly_regressor.fit(X_poly, y)\n",
        "y_pred_poly = poly_regressor.predict(X_poly)\n",
        "mse_poly = mean_squared_error(y, y_pred_poly)\n",
        "r2_poly = r2_score(y, y_pred_poly)\n",
        "\n",
        "print(r2_poly)"
      ],
      "metadata": {
        "colab": {
          "base_uri": "https://localhost:8080/"
        },
        "id": "aPtd_qUp1hE1",
        "outputId": "33b784ed-a466-456c-8a0a-2bc8c25804ad"
      },
      "execution_count": 20,
      "outputs": [
        {
          "output_type": "stream",
          "name": "stdout",
          "text": [
            "0.9999494749253776\n"
          ]
        }
      ]
    },
    {
      "cell_type": "code",
      "source": [
        "poly_features = PolynomialFeatures(degree=7)\n",
        "X_poly = poly_features.fit_transform(x)\n",
        "poly_regressor = LinearRegression()\n",
        "poly_regressor.fit(X_poly, y)\n",
        "y_pred_poly = poly_regressor.predict(X_poly)\n",
        "mse_poly = mean_squared_error(y, y_pred_poly)\n",
        "r2_poly = r2_score(y, y_pred_poly)\n",
        "\n",
        "print(r2_poly)"
      ],
      "metadata": {
        "colab": {
          "base_uri": "https://localhost:8080/"
        },
        "id": "b87zLPib1j2d",
        "outputId": "3d3c9735-3842-4285-a82d-787531cb5b84"
      },
      "execution_count": 21,
      "outputs": [
        {
          "output_type": "stream",
          "name": "stdout",
          "text": [
            "0.9999770143729168\n"
          ]
        }
      ]
    }
  ]
}